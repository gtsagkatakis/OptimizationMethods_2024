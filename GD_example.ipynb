{
  "nbformat": 4,
  "nbformat_minor": 0,
  "metadata": {
    "colab": {
      "provenance": [],
      "authorship_tag": "ABX9TyOx6Q9TxM2NGQEcwrZqk/0V",
      "include_colab_link": true
    },
    "kernelspec": {
      "name": "python3",
      "display_name": "Python 3"
    },
    "language_info": {
      "name": "python"
    }
  },
  "cells": [
    {
      "cell_type": "markdown",
      "metadata": {
        "id": "view-in-github",
        "colab_type": "text"
      },
      "source": [
        "<a href=\"https://colab.research.google.com/github/gtsagkatakis/OptimizationMethods_2024/blob/main/GD_example.ipynb\" target=\"_parent\"><img src=\"https://colab.research.google.com/assets/colab-badge.svg\" alt=\"Open In Colab\"/></a>"
      ]
    },
    {
      "cell_type": "code",
      "source": [
        "import numpy as np\n",
        "import pandas as pd\n",
        "import matplotlib.pyplot as plt\n",
        "\n",
        "# Load data from CSV\n",
        "rental_data = pd.read_csv('rental_data.csv')\n",
        "housingdata = rental_data\n",
        "\n",
        "# Extracting columns\n",
        "x = housingdata.iloc[:, 0]  # Assuming the first column corresponds to 'x' (e.g., Temperature)\n",
        "z = housingdata.iloc[:, 2]  # Assuming the third column corresponds to 'z' (e.g., Number of rented bikes)\n",
        "\n",
        "# Plotting Temperature vs Number of rented bikes (before fitting the model)\n",
        "plt.figure()\n",
        "plt.scatter(x, z, marker='x')\n",
        "plt.xlabel('Temperature')\n",
        "plt.ylabel('Number of rented bikes')\n",
        "plt.title('Actual Data: Temperature vs Number of rented bikes')\n",
        "plt.show()\n",
        "\n",
        "# Initialization for single-variable regression\n",
        "theta_0 = -1.5  # Initial intercept\n",
        "theta_1 = 1     # Initial slope\n",
        "tol = 1e-6      # Termination tolerance\n",
        "maxiter = 100   # Maximum number of iterations\n",
        "alpha = 0.0001  # Step size (learning rate)\n",
        "\n",
        "L = []  # Loss function values storage\n",
        "\n",
        "# Optimization Loop\n",
        "for niter in range(1, maxiter + 1):\n",
        "    # Compute predicted values using a linear model\n",
        "    z_hat = theta_0 + theta_1 * x\n",
        "\n",
        "    # Compute gradients\n",
        "    theta_0_gradient = (2 / len(x)) * np.sum(z_hat - z)\n",
        "    theta_1_gradient = (2 / len(x)) * np.sum(x * (z_hat - z))\n",
        "\n",
        "    # Update parameters\n",
        "    theta_0 -= alpha * theta_0_gradient\n",
        "    theta_1 -= alpha * theta_1_gradient\n",
        "\n",
        "    # Compute loss (mean squared error)\n",
        "    loss = (2 / len(x)) * np.sum((z_hat - z) ** 2)\n",
        "    L.append(loss)\n",
        "\n",
        "    print(f\"Iteration {niter}: Loss = {loss}, Theta_0 = {theta_0}, Theta_1 = {theta_1}\")\n",
        "\n",
        "    # Plotting results during optimization (side-by-side plots)\n",
        "    x_plot = np.linspace(min(x), max(x), 100)\n",
        "    z_est = lambda x: theta_0 + theta_1 * x\n",
        "\n",
        "    plt.figure(figsize=(12, 5))\n",
        "\n",
        "    # Left subplot: Data and estimated model\n",
        "    plt.subplot(1, 2, 1)\n",
        "    plt.scatter(x, z, marker='x', label='Actual Data')\n",
        "    plt.plot(x_plot, z_est(x_plot), 'r-', label='Estimated Model')\n",
        "    plt.title(f\"Iteration {niter}\")\n",
        "    plt.xlabel('Temperature')\n",
        "    plt.ylabel('Number of rented bikes')\n",
        "    plt.legend()\n",
        "\n",
        "    # Right subplot: Loss function plot\n",
        "    plt.subplot(1, 2, 2)\n",
        "    plt.plot(range(1, niter + 1), L, 'kx-')\n",
        "    plt.title(\"Loss function value\")\n",
        "    plt.xlabel('Iteration')\n",
        "    plt.ylabel('Loss')\n",
        "    plt.tight_layout()  # Adjust spacing between subplots\n",
        "    plt.pause(0.1)\n",
        "\n",
        "# Final optimal parameters and results\n",
        "print(f\"Final Parameters: Theta_0 = {theta_0}, Theta_1 = {theta_1}\")\n"
      ],
      "metadata": {
        "id": "-agm_5gt9kk4"
      },
      "execution_count": null,
      "outputs": []
    },
    {
      "cell_type": "markdown",
      "source": [
        "write code using the other input variable"
      ],
      "metadata": {
        "id": "m1EGkYTUDtaG"
      }
    },
    {
      "cell_type": "markdown",
      "source": [
        "what is the impact of different step sizes"
      ],
      "metadata": {
        "id": "0bu84pCl_RAM"
      }
    },
    {
      "cell_type": "markdown",
      "source": [
        "what would be a different termination condition"
      ],
      "metadata": {
        "id": "2iDApJvd_eJ4"
      }
    },
    {
      "cell_type": "markdown",
      "source": [
        "Write code to analyze the two variable together e.g. z=θ0+θ1x+θ2y"
      ],
      "metadata": {
        "id": "KW-tHMOF9-mp"
      }
    }
  ]
}